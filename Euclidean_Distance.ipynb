{
 "cells": [
  {
   "cell_type": "code",
   "execution_count": 6,
   "id": "e20d901c",
   "metadata": {},
   "outputs": [
    {
     "name": "stdout",
     "output_type": "stream",
     "text": [
      "[[  0.          61.03277808  69.64194139  46.09772229]\n",
      " [ 61.03277808   0.          39.05124838 100.        ]\n",
      " [ 69.64194139  39.05124838   0.         115.43396381]\n",
      " [ 46.09772229 100.         115.43396381   0.        ]]\n"
     ]
    }
   ],
   "source": [
    "import numpy as np\n",
    "\n",
    "def euclidean_distance_matrix(vectors):\n",
    "\n",
    "    n = len(vectors)\n",
    "    d = np.zeros((n, n))\n",
    "    for i in range(n):\n",
    "        for j in range(i, n):\n",
    "            d[i][j] = d[j][i] = np.sqrt(np.sum(np.power(vectors[i] - vectors[j], 2)))\n",
    "    return d\n",
    "\n",
    "vectors = [\n",
    "    np.array([145, 115]),\n",
    "    np.array([95, 150]),\n",
    "    np.array([120, 180]),\n",
    "    np.array([155, 70])\n",
    "]\n",
    "\n",
    "\n",
    "distance_matrix = euclidean_distance_matrix(vectors)\n",
    "print(distance_matrix)"
   ]
  },
  {
   "cell_type": "code",
   "execution_count": null,
   "id": "7d815441",
   "metadata": {},
   "outputs": [],
   "source": []
  }
 ],
 "metadata": {
  "kernelspec": {
   "display_name": "Python 3 (ipykernel)",
   "language": "python",
   "name": "python3"
  },
  "language_info": {
   "codemirror_mode": {
    "name": "ipython",
    "version": 3
   },
   "file_extension": ".py",
   "mimetype": "text/x-python",
   "name": "python",
   "nbconvert_exporter": "python",
   "pygments_lexer": "ipython3",
   "version": "3.9.18"
  }
 },
 "nbformat": 4,
 "nbformat_minor": 5
}
